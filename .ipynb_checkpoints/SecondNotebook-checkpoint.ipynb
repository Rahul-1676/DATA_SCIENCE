{
 "cells": [
  {
   "cell_type": "markdown",
   "id": "4f502fb7-7290-49e6-a784-1818ce5ea433",
   "metadata": {},
   "source": [
    "## I am just trying to learn new things ##"
   ]
  },
  {
   "cell_type": "code",
   "execution_count": 1,
   "id": "2e8dcc84-9465-4d28-9152-40cff73c8618",
   "metadata": {},
   "outputs": [
    {
     "name": "stdout",
     "output_type": "stream",
     "text": [
      "Hello \n"
     ]
    }
   ],
   "source": [
    "print(\"Hello \")"
   ]
  },
  {
   "cell_type": "code",
   "execution_count": 2,
   "id": "0564b088-26a2-4a0b-88c1-9c8ec16ed8c1",
   "metadata": {},
   "outputs": [
    {
     "name": "stdout",
     "output_type": "stream",
     "text": [
      "10\n"
     ]
    }
   ],
   "source": [
    "print(4+6)"
   ]
  },
  {
   "cell_type": "code",
   "execution_count": 3,
   "id": "f512c647-269e-4dec-ad47-dcf1999cf309",
   "metadata": {},
   "outputs": [
    {
     "name": "stdout",
     "output_type": "stream",
     "text": [
      "this is very easy calculation\n"
     ]
    }
   ],
   "source": [
    "print(\"this is very easy calculation\")"
   ]
  },
  {
   "cell_type": "code",
   "execution_count": null,
   "id": "2f385320-cf5e-422b-9b38-189147c161fd",
   "metadata": {},
   "outputs": [],
   "source": []
  },
  {
   "cell_type": "code",
   "execution_count": null,
   "id": "b98ab97b-12bd-4010-a624-3dd6ac8ea766",
   "metadata": {},
   "outputs": [],
   "source": []
  }
 ],
 "metadata": {
  "kernelspec": {
   "display_name": "Python [conda env:base] *",
   "language": "python",
   "name": "conda-base-py"
  },
  "language_info": {
   "codemirror_mode": {
    "name": "ipython",
    "version": 3
   },
   "file_extension": ".py",
   "mimetype": "text/x-python",
   "name": "python",
   "nbconvert_exporter": "python",
   "pygments_lexer": "ipython3",
   "version": "3.12.7"
  }
 },
 "nbformat": 4,
 "nbformat_minor": 5
}
